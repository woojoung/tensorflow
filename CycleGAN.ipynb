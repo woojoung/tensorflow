{
 "cells": [
  {
   "attachments": {},
   "cell_type": "markdown",
   "metadata": {},
   "source": [
    "## CycleGAN\n",
    "\n",
    "* [CycleGAN](https://arxiv.org/pdf/1703.10593.pdf) with Kaggle Data, Painter by Numbers \u000b",
    "(https://www.kaggle.com/c/painter-by-numbers/data)\n",
    "* First of all, you should import [GAN.py](https://github.com/tensorpack/tensorpack/blob/master/examples/GAN/GAN.py) at the same path.\n",
    "* [Reference](https://github.com/tensorpack/tensorpack/blob/master/examples/GAN/CycleGAN.py) "
   ]
  },
  {
   "cell_type": "code",
   "execution_count": null,
   "metadata": {},
   "outputs": [],
   "source": [
    "import os\n",
    "import argparse\n",
    "import glob\n",
    "from six.moves import range\n",
    "\n",
    "\n",
    "from tensorpack import *\n",
    "from tensorpack.dataflow import *\n",
    "from tensorpack.callbacks import *\n",
    "from tensorpack.tfutils import summary\n",
    "from tensorpack.tfutils.summary import add_moving_summary\n",
    "from tensorpack.utils.viz import stack_patches\n",
    "from tensorpack.tfutils.scope_utils import auto_reuse_variable_scope\n",
    "import tensorflow as tf\n",
    "from GAN import *\n",
    "\n",
    "\n",
    "\n",
    "\n",
    "import matplotlib.pyplot as plt\n",
    "\n",
    "from GAN import *\n",
    "from PIL import Image\n",
    "from tensorpack import *\n",
    "from tensorpack.dataflow import *\n",
    "from tensorpack.callbacks import *\n",
    "from tensorpack.tfutils import summary\n",
    "from tensorpack.utils.viz import stack_patches\n",
    "from tensorpack.tfutils.scope_utils import auto_reuse_variable_scope"
   ]
  },
  {
   "cell_type": "markdown",
   "metadata": {},
   "source": [
    "## Dataflow"
   ]
  },
  {
   "cell_type": "code",
   "execution_count": null,
   "metadata": {},
   "outputs": [],
   "source": [
    "class Gallery(RNGDataFlow):\n",
    "    def __init__(self, painting_path, picture_path, shuffle=True):\n",
    "        super(Gallery, self).__init__()\n",
    "        self.painting_path = painting_path\n",
    "        self.picture_path = picture_path\n",
    "        self.shuffle = shuffle\n",
    "                    \n",
    "        \"\"\"Read Data.\n",
    "        Args:\n",
    "            [img_path]: path for the images\n",
    "        \"\"\"\n",
    "        paintings = []\n",
    "        pictures = []\n",
    "        min_width = 50000\n",
    "        min_height = 60000\n",
    "        \n",
    "        # Read paintings\n",
    "        for file in glob.iglob(self.painting_path + '/*.jpg'):\n",
    "            img = Image.open(file).convert(\"RGB\")\n",
    "            img = np.array(img)\n",
    "            paintings.append(img)\n",
    "            print(img.shape)\n",
    "            # Height\n",
    "            if img.shape[1] <= min_height:\n",
    "                min_height = img.shape[1]\n",
    "            # Width\n",
    "            if img.shape[0] <= min_width:\n",
    "                min_width = img.shape[1]\n",
    "                \n",
    "            self.len = len(paintings)\n",
    "            self.min_height = min_height\n",
    "            self.min_width = min_width\n",
    "        \n",
    "        self.paintings = paintings\n",
    "        \n",
    "        # Read pictures\n",
    "        for file in glob.iglob(self.picture_path + '/*.jpg'):\n",
    "            img = Image.open(file).convert(\"RGB\")\n",
    "            img = np.array(img)\n",
    "            pictures.append(img)\n",
    "            \n",
    "        self.pictures = pictures\n",
    "            \n",
    "    \n",
    "    def __len__(self):\n",
    "        return self.len\n",
    "    \n",
    "    \n",
    "    def __iter__(self):\n",
    "        idxs = np.arange(self.len)\n",
    "        if self.shuffle:\n",
    "            self.rng.shuffle(idxs)\n",
    "        for k in idxs:\n",
    "            yield [self.paintings[k], self.pictures[k]]\n",
    "            \n",
    "    def get_data(self):\n",
    "        return self.__iter__()"
   ]
  },
  {
   "cell_type": "markdown",
   "metadata": {},
   "source": [
    "## Image Handling"
   ]
  },
  {
   "cell_type": "code",
   "execution_count": null,
   "metadata": {},
   "outputs": [],
   "source": [
    "import cv2\n",
    "import glob\n",
    "\n",
    "paintings_path = '/Users/chaeujeong/Desktop/Todays_painter/Data/Eyvind_Earle'\n",
    "pictures_path = '/Users/chaeujeong/CycleGAN/datasets/cezanne2photo/trainB'\n",
    "\n",
    "images = [cv2.imread(file) for file in glob.glob('path/to/files/*jpg')]\n",
    "\n",
    "\n",
    "\n",
    "\n",
    "\n",
    "\n"
   ]
  },
  {
   "cell_type": "code",
   "execution_count": null,
   "metadata": {},
   "outputs": [],
   "source": [
    "def get_dataflow(batch_size):\n",
    "    df = Gallery('./Paul_Cezanne/', './trainB', shuffle=True)\n",
    "\n",
    "    # ----- Image Augmentation Options -------- #\n",
    "    augs = [\n",
    "        imgaug.CenterCrop((df.min_width, df.min_height)),\n",
    "        imgaug.Resize((256, 256))\n",
    "    ]\n",
    "    df = AugmentImageComponent(df, augs)\n",
    "    df = BatchData(df, batch_size)\n",
    "    # start 5 processes to run the dataflow in parallel\n",
    "#     df = PrefetchDataZMQ(df, 5)\n",
    "    return df"
   ]
  },
  {
   "cell_type": "code",
   "execution_count": null,
   "metadata": {},
   "outputs": [],
   "source": [
    "df = get_dataflow(4)\n",
    "df.reset_state()"
   ]
  },
  {
   "cell_type": "code",
   "execution_count": null,
   "metadata": {},
   "outputs": [],
   "source": [
    "fig =plt.figure(figsize=(256, 256))\n",
    "\n",
    "for idx, dp in enumerate(df.get_data()):\n",
    "    if idx == 0:\n",
    "        for i in range(4):\n",
    "            img = dp[idx][i]\n",
    "            fig.add_subplot(1, 4, i + 1)\n",
    "            plt.imshow(img)\n",
    "        plt.show()\n",
    "    break"
   ]
  },
  {
   "cell_type": "code",
   "execution_count": null,
   "metadata": {},
   "outputs": [],
   "source": []
  },
  {
   "cell_type": "code",
   "execution_count": null,
   "metadata": {},
   "outputs": [],
   "source": []
  },
  {
   "cell_type": "code",
   "execution_count": null,
   "metadata": {},
   "outputs": [],
   "source": []
  },
  {
   "cell_type": "code",
   "execution_count": null,
   "metadata": {},
   "outputs": [],
   "source": []
  }
 ],
 "metadata": {
  "kernelspec": {
   "display_name": "Python 3",
   "language": "python",
   "name": "python3"
  },
  "language_info": {
   "codemirror_mode": {
    "name": "ipython",
    "version": 3
   },
   "file_extension": ".py",
   "mimetype": "text/x-python",
   "name": "python",
   "nbconvert_exporter": "python",
   "pygments_lexer": "ipython3",
   "version": "3.6.4"
  }
 },
 "nbformat": 4,
 "nbformat_minor": 2
}
