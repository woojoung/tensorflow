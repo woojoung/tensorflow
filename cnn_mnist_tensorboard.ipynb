{
 "cells": [
  {
   "cell_type": "markdown",
   "metadata": {},
   "source": [
    "### cnn_mnist_tflayers_tensorboard"
   ]
  },
  {
   "cell_type": "code",
   "execution_count": null,
   "metadata": {
    "collapsed": true
   },
   "outputs": [],
   "source": [
    "%matplotlib inline\n",
    "\n",
    "import tensorflow as tf\n",
    "import numpy as np\n",
    "\n",
    "from tensorflow.examples.tutorials.mnist import input_data\n",
    "\n",
    "mnist = input_data.read_data_sets(\"./mnist/data/\", one_hot=True)\n",
    "\n",
    "#########\n",
    "# 신경망 모델 구성 - 모델의 뼈대 맞추기.\n",
    "######\n",
    "\n",
    "\n",
    "# placeholders\n",
    "X = tf.placeholder(tf.float32, [None, 28, 28, 1], name='X')\n",
    "Y = tf.placeholder(tf.float32, [None, 10])\n",
    "is_training = tf.placeholder(tf.bool)\n",
    "\n",
    "# model\n",
    "L1 = tf.layers.conv2d(X, 32, [3, 3], activation=tf.nn.relu)\n",
    "L1 = tf.layers.max_pooling2d(L1, [2, 2], [2, 2])\n",
    "L1 = tf.layers.dropout(L1, 0.7, is_training)\n",
    "\n",
    "L2 = tf.layers.conv2d(L1, 64, [3, 3], activation=tf.nn.relu)\n",
    "L2 = tf.layers.max_pooling2d(L2, [2, 2], [2, 2])\n",
    "L2 = tf.layers.dropout(L2, 0.7, is_training)\n",
    "\n",
    "L3 = tf.contrib.layers.flatten(L2)\n",
    "L3 = tf.layers.dense(L3, 256, activation=tf.nn.relu)\n",
    "L3 = tf.layers.dropout(L3, 0.5, is_training)\n",
    "\n",
    "model = tf.layers.dense(L3, 10, activation=None) \n",
    "\n",
    "# cost function and optimizer\n",
    "cost = tf.reduce_mean(tf.nn.softmax_cross_entropy_with_logits_v2(logits=model, labels=Y))\n",
    "optimizer = tf.train.AdamOptimizer(0.001).minimize(cost)\n",
    "\n",
    "\n",
    "# cost = cross entropy\n",
    "cost_summ = tf.summary.scalar(name='cost', tensor=cost)\n",
    "\n",
    "\n",
    "# training\n",
    "with tf.Session() as sess:\n",
    "    init = tf.global_variables_initializer()\n",
    "    sess.run(init)\n",
    "    \n",
    "    # Training the model\n",
    "    log_dir = 'log/'\n",
    "    board_dir = 'tf_board'\n",
    "    train_writer = tf.summary.FileWriter(board_dir, sess.graph)\n",
    "    summaries_train = tf.summary.merge_all()\n",
    "    \n",
    "    batch_size = 100\n",
    "    total_batch = int(mnist.train.num_examples/batch_size) # n_batches\n",
    "    \n",
    "    \n",
    "    for epoch_i in range(4): # range(num_epoch)\n",
    "        total_cost = 0\n",
    "\n",
    "        for batch_index in range(total_batch):\n",
    "            features, labels = mnist.train.next_batch(batch_size)\n",
    "            features = features.reshape(-1, 28, 28, 1)\n",
    "            \n",
    "            train_data = {X:features, Y:labels, is_training:True}\n",
    "            \n",
    "            if batch_index % 100 == 0: # Write to the log file every 100 iterations\n",
    "                summary = cost_summ.eval(feed_dict=train_data)\n",
    "                step = epoch_i * total_batch + batch_index\n",
    "                print('Step %d: loss = %.2f'%(step, cost_val))\n",
    "                train_writer.add_summary(summary, step)\n",
    "            \n",
    "            _, cost_val = sess.run([optimizer, cost], # optimizer : train_step\n",
    "                                   feed_dict=train_data)\n",
    "            \n",
    "            total_cost += cost_val \n",
    "                \n",
    "        print('Epoch: {}, \\nLoss:{:.3f}'.format(epoch_i, \n",
    "                                                 (total_cost / total_batch)))\n",
    "    train_writer.close()\n",
    "    print('학습 완료!')\n",
    "    \n",
    "\n",
    "#########\n",
    "# 결과 확인\n",
    "######\n",
    "    print('\\n')\n",
    "    prediction = tf.argmax(model, 1)\n",
    "    target = tf.argmax(Y, 1)\n",
    "    print('예측값:', sess.run(prediction, feed_dict={X: features}))\n",
    "    print('실제값:', sess.run(target, feed_dict={Y: labels}))\n",
    "\n",
    "    is_correct = tf.equal(prediction, target)\n",
    "    accuracy = tf.reduce_mean(tf.cast(is_correct, tf.float32))\n",
    "    print('정확도: %.2f' % sess.run(accuracy * 100, feed_dict={X: features, Y: labels}))"
   ]
  },
  {
   "cell_type": "markdown",
   "metadata": {},
   "source": [
    "#### Launch tensorboard\n",
    "chaeujeongui-MacBook-Pro:tf_board chaeujeong$ tensorboard --logdir=/Users/chaeujeong/tf_board"
   ]
  },
  {
   "cell_type": "code",
   "execution_count": null,
   "metadata": {
    "collapsed": true
   },
   "outputs": [],
   "source": []
  }
 ],
 "metadata": {
  "kernelspec": {
   "display_name": "Python 3",
   "language": "python",
   "name": "python3"
  },
  "language_info": {
   "codemirror_mode": {
    "name": "ipython",
    "version": 3
   },
   "file_extension": ".py",
   "mimetype": "text/x-python",
   "name": "python",
   "nbconvert_exporter": "python",
   "pygments_lexer": "ipython3",
   "version": "3.6.3"
  }
 },
 "nbformat": 4,
 "nbformat_minor": 2
}
